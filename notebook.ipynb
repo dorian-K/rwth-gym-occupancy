{
 "cells": [
  {
   "cell_type": "code",
   "execution_count": 2,
   "id": "9d864012-2775-45cd-b4c0-b57829e2c335",
   "metadata": {},
   "outputs": [],
   "source": [
    "from PIL import Image\n",
    "import requests\n",
    "from io import BytesIO\n",
    "\n",
    "\n",
    "def get_uptodate_pic():\n",
    "    headers = {\n",
    "        \"authority\": \"buchung.hsz.rwth-aachen.de\",\n",
    "        \"accept\": \"text/html,application/xhtml+xml,application/xml;q=0.9,image/avif,image/webp,image/apng,*/*;q=0.8,application/signed-exchange;v=b3;q=0.7\",\n",
    "        \"accept-language\": \"en-US,en-DE;q=0.9,en;q=0.8,de-DE;q=0.7,de;q=0.6\",\n",
    "        \"cache-control\": \"no-cache\",\n",
    "        \"dnt\": \"1\",\n",
    "        \"pragma\": \"no-cache\",\n",
    "        \"referer\": \"https://buchung.hsz.rwth-aachen.de/angebote/aktueller_zeitraum/_Auslastung.html\",\n",
    "        \"sec-ch-ua\": '\"Not.A/Brand\";v=\"8\", \"Chromium\";v=\"114\", \"Google Chrome\";v=\"114\"',\n",
    "        \"sec-ch-ua-mobile\": \"?0\",\n",
    "        \"sec-ch-ua-platform\": '\"Windows\"',\n",
    "        \"sec-fetch-dest\": \"document\",\n",
    "        \"sec-fetch-mode\": \"navigate\",\n",
    "        \"sec-fetch-site\": \"same-origin\",\n",
    "        \"sec-fetch-user\": \"?1\",\n",
    "        \"upgrade-insecure-requests\": \"1\",\n",
    "        \"user-agent\": \"Mozilla/5.0 (Windows NT 10.0; Win64; x64) AppleWebKit/537.36 (KHTML, like Gecko) Chrome/114.0.0.0 Safari/537.36\",\n",
    "    }\n",
    "    \n",
    "    params = {\n",
    "        \"size\": \"30\",\n",
    "    }\n",
    "    \n",
    "    r = requests.get(\n",
    "        \"https://buchung.hsz.rwth-aachen.de/cgi/studio.cgi\", params=params, headers=headers\n",
    "    )\n",
    "\n",
    "    return Image.open(BytesIO(r.content))"
   ]
  },
  {
   "cell_type": "code",
   "execution_count": 104,
   "id": "975099b8-8ed8-49ec-926e-2ffe2b7f8157",
   "metadata": {},
   "outputs": [],
   "source": [
    "auslastung = get_uptodate_pic()"
   ]
  },
  {
   "cell_type": "code",
   "execution_count": 105,
   "id": "95930d04-45b9-4b95-99c7-fdec2fa00eb2",
   "metadata": {},
   "outputs": [
    {
     "data": {
      "image/png": "[encoded data removed]",
      "text/plain": [
       "<PIL.Image.Image image mode=P size=88x120>"
      ]
     },
     "execution_count": 105,
     "metadata": {},
     "output_type": "execute_result"
    }
   ],
   "source": [
    "auslastung.resize((22 * 4, 30 * 4), resample=Image.NEAREST)"
   ]
  },
  {
   "cell_type": "code",
   "execution_count": 4,
   "id": "942c4bb1-6b57-43d9-a2cd-60ddceb42109",
   "metadata": {},
   "outputs": [],
   "source": [
    "def split_img(img):\n",
    "    parts = []\n",
    "    for i in range(0, img.width, 22):\n",
    "        #print(i)\n",
    "        parts.append(img.crop((i, 0, i + 22 , img.height)).resize((22 * 4, 30 * 4), resample=Image.NEAREST).convert(mode=\"L\"))\n",
    "    return parts\n"
   ]
  },
  {
   "cell_type": "code",
   "execution_count": 95,
   "id": "7cce644f-1447-4b93-afbc-7cf5a1e1dda3",
   "metadata": {},
   "outputs": [],
   "source": [
    "import math\n",
    "\n",
    "def make_diff(im1, im2):\n",
    "    width, height = im1.size\n",
    "    if im1.size != im2.size:\n",
    "        print(im1.size, im2.size)\n",
    "        raise ValueError(\"size mismatch\")\n",
    "    \n",
    "    # Create a new blank image to store the difference\n",
    "    diff_image = Image.new(\"L\", (width, height))\n",
    "    \n",
    "    # Iterate over each pixel\n",
    "    for x in range(width):\n",
    "        for y in range(height):\n",
    "            # Get the pixel values at (x, y) from both images\n",
    "            pixel1 = im1.getpixel((x, y))\n",
    "            pixel2 = im2.getpixel((x, y))\n",
    "            \n",
    "            # Calculate the difference between the pixel values\n",
    "            \n",
    "            # Set the difference pixel value in the new image\n",
    "            diff_image.putpixel((x, y), 255 - abs(pixel2 - pixel1))\n",
    "    \n",
    "    # Display the difference image\n",
    "    return diff_image\n",
    "\n",
    "def diff_val(im1, im2):\n",
    "    width, height = im1.size\n",
    "    if im1.size != im2.size:\n",
    "        print(im1.size, im2.size)\n",
    "        raise ValueError(\"size mismatch\")\n",
    "    \n",
    "    # Create a new blank image to store the difference\n",
    "    val = 0\n",
    "    \n",
    "    # Iterate over each pixel\n",
    "    for x in range(width):\n",
    "        for y in range(height):\n",
    "            # Get the pixel values at (x, y) from both images\n",
    "            pixel1 = im1.getpixel((x, y))\n",
    "            pixel2 = im2.getpixel((x, y))\n",
    "            val += (pixel1 - pixel2) ** 2\n",
    "    \n",
    "    # Display the difference image\n",
    "    return math.sqrt(val)\n",
    "\n",
    "def match_number(toBeMatched, number_images):\n",
    "    numbers_with_diff = zip(number_images.keys(), number_images.values(), [diff_val(im, toBeMatched) for im in number_images.values()])\n",
    "    mind = min(numbers_with_diff, key=lambda item: item[2])\n",
    "    return mind"
   ]
  },
  {
   "cell_type": "code",
   "execution_count": 107,
   "id": "57a0884e-a9fd-4957-9d6b-b2e1a9d70af6",
   "metadata": {
    "scrolled": true
   },
   "outputs": [],
   "source": [
    "def brute_force_font_params():\n",
    "    from PIL import ImageDraw, ImageFont\n",
    "    \n",
    "    minVal = 99999999999\n",
    "    minParam = None\n",
    "    digit = split_img(auslastung)[0]\n",
    "    for fsize in range(36, 42):\n",
    "        font = ImageFont.truetype(\"arial.ttf\", fsize)\n",
    "        for x in range(-3, 3):\n",
    "            for y in range(-15, 5):\n",
    "                img = Image.new('L', (22, 30), color=\"white\")\n",
    "                d = ImageDraw.Draw(img)\n",
    "                d.text((x, y), '0', fill=0, font=font)\n",
    "                \n",
    "                img = img.resize((22 * 4, 30 * 4), resample=Image.NEAREST)\n",
    "                #img\n",
    "                val = diff_val(digit, img)\n",
    "                if val < minVal:\n",
    "                    minVal = val\n",
    "                    minParam = (fsize, x, y)\n",
    "    \n",
    "    print(minVal, minParam)"
   ]
  },
  {
   "cell_type": "code",
   "execution_count": 113,
   "id": "27c3e5f7-1744-44a4-a5a9-070adcb1773d",
   "metadata": {},
   "outputs": [
    {
     "data": {
      "image/png": "[encoded data removed]",
      "text/plain": [
       "<PIL.Image.Image image mode=L size=88x120>"
      ]
     },
     "execution_count": 113,
     "metadata": {},
     "output_type": "execute_result"
    }
   ],
   "source": [
    "def make_synthetic_digit(character):\n",
    "    img = Image.new('L', (22, 30), color=\"white\")\n",
    "    d = ImageDraw.Draw(img)\n",
    "    font = ImageFont.truetype(\"arial.ttf\", 40)\n",
    "    d.text((0, -7), character, fill=0, font=font)\n",
    "    digit = split_img(auslastung)[0]\n",
    "    img = img.resize((22 * 4, 30 * 4), resample=Image.NEAREST)\n",
    "    return img\n",
    "img = make_synthetic_digit(\"0\")\n",
    "make_diff(img, digit)"
   ]
  },
  {
   "cell_type": "code",
   "execution_count": 18,
   "id": "3c976a49-0fab-4022-a572-d11b1f9ffe69",
   "metadata": {},
   "outputs": [
    {
     "data": {
      "image/png": "[encoded data removed]",
      "text/plain": [
       "<PIL.Image.Image image mode=RGB size=880x120>"
      ]
     },
     "metadata": {},
     "output_type": "display_data"
    }
   ],
   "source": [
    "numbers = {}\n",
    "for i in range(10):\n",
    "    for k in pics.keys():\n",
    "        ind = k.find(str(i))\n",
    "        if ind == -1:\n",
    "            continue\n",
    "        numbers[i] = split_img(pics[k])[ind]\n",
    "        break\n",
    "    if not i in numbers:\n",
    "        print(\"index {} not present\".format(i))\n",
    "\n",
    "def print_list_of_images(img_list):\n",
    "    new_image = Image.new('RGB', (sum(img.width for img in img_list), max(img.height for img in img_list)), (255, 255, 255))\n",
    "    \n",
    "    # Paste each image into the new image\n",
    "    x_offset = 0\n",
    "    for img in img_list:\n",
    "        new_image.paste(img, (x_offset, 0))\n",
    "        x_offset += img.width\n",
    "    \n",
    "    # Display the new image\n",
    "    display(new_image)\n",
    "print_list_of_images(numbers.values())"
   ]
  },
  {
   "cell_type": "code",
   "execution_count": 13,
   "id": "c30ff30c-17e5-47fb-85ea-84b7b35265ed",
   "metadata": {},
   "outputs": [],
   "source": [
    "\n",
    "\n",
    "    "
   ]
  },
  {
   "cell_type": "code",
   "execution_count": 26,
   "id": "9aa7ea94-8b9b-4b95-874a-fb42b87cbfd6",
   "metadata": {},
   "outputs": [
    {
     "data": {
      "image/png": "[encoded data removed]",
      "text/plain": [
       "<PIL.GifImagePlugin.GifImageFile image mode=P size=44x30>"
      ]
     },
     "execution_count": 26,
     "metadata": {},
     "output_type": "execute_result"
    }
   ],
   "source": [
    "auslastung"
   ]
  },
  {
   "cell_type": "code",
   "execution_count": 25,
   "id": "1d316cb6-85b7-4083-afa4-ddc4bac9241e",
   "metadata": {},
   "outputs": [
    {
     "data": {
      "image/png": "[encoded data removed]",
      "text/plain": [
       "<PIL.Image.Image image mode=RGB size=176x120>"
      ]
     },
     "metadata": {},
     "output_type": "display_data"
    }
   ],
   "source": [
    "auslastung_digits = split_img(auslastung)\n",
    "\n",
    "reconstructed_digits = []\n",
    "for digit in auslastung_digits:\n",
    "    reconstructed_digits.append(match_number(digit, numbers))\n",
    "\n",
    "print_list_of_images([lol[1] for lol in reconstructed_digits])"
   ]
  },
  {
   "cell_type": "code",
   "execution_count": 27,
   "id": "d19d83ad-f5ad-44f0-aeed-7c4d6d7f9ccf",
   "metadata": {},
   "outputs": [
    {
     "data": {
      "text/plain": [
       "'27'"
      ]
     },
     "execution_count": 27,
     "metadata": {},
     "output_type": "execute_result"
    }
   ],
   "source": [
    "''.join([str(digit[0]) for digit in reconstructed_digits])"
   ]
  },
  {
   "cell_type": "code",
   "execution_count": null,
   "id": "eb38243d-0bbd-4853-a7a9-efca1ae4bb5a",
   "metadata": {},
   "outputs": [],
   "source": []
  }
 ],
 "metadata": {
  "kernelspec": {
   "display_name": "Python 3 (ipykernel)",
   "language": "python",
   "name": "python3"
  },
  "language_info": {
   "codemirror_mode": {
    "name": "ipython",
    "version": 3
   },
   "file_extension": ".py",
   "mimetype": "text/x-python",
   "name": "python",
   "nbconvert_exporter": "python",
   "pygments_lexer": "ipython3",
   "version": "3.10.2"
  }
 },
 "nbformat": 4,
 "nbformat_minor": 5
}
